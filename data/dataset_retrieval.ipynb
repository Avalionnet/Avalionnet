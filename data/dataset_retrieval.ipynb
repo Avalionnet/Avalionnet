{
  "nbformat": 4,
  "nbformat_minor": 0,
  "metadata": {
    "colab": {
      "provenance": [],
      "collapsed_sections": [],
      "authorship_tag": "ABX9TyM6qF/Y/48XGSJMW22Upz79",
      "include_colab_link": true
    },
    "kernelspec": {
      "name": "python3",
      "display_name": "Python 3"
    },
    "language_info": {
      "name": "python"
    }
  },
  "cells": [
    {
      "cell_type": "markdown",
      "metadata": {
        "id": "view-in-github",
        "colab_type": "text"
      },
      "source": [
        "<a href=\"https://colab.research.google.com/github/Avalionnet/Avalionnet/blob/main/data/dataset_retrieval.ipynb\" target=\"_parent\"><img src=\"https://colab.research.google.com/assets/colab-badge.svg\" alt=\"Open In Colab\"/></a>"
      ]
    },
    {
      "cell_type": "markdown",
      "source": [
        "# Dataset Preparation\n",
        "Before training the Google T5 model for our claim decomposition task, it is essential for us to first fetch the necessary training data. \n",
        "\n",
        "This file contains code to reconstruct the ClaimDecomp dataset specified in the `chen-etal-2022-generating ` paper by the University of Texas."
      ],
      "metadata": {
        "id": "5NIzYAK7f7O5"
      }
    },
    {
      "cell_type": "markdown",
      "source": [
        "## Install required libraries"
      ],
      "metadata": {
        "id": "jaZ9GRmphm7u"
      }
    },
    {
      "cell_type": "code",
      "execution_count": null,
      "metadata": {
        "id": "I0zD1nNAf1B7"
      },
      "outputs": [],
      "source": [
        "!pip install tqdm\n",
        "!pip install pandas\n",
        "!pip install beautifulsoup4\n",
        "!pip install argparse\n",
        "!pip install requests\n",
        "!pip install allennlp==2.7\n",
        "!pip install torch==1.9.0"
      ]
    },
    {
      "cell_type": "markdown",
      "source": [
        "##Download ClaimDecomp Dataset from the University of Texas"
      ],
      "metadata": {
        "id": "suifXQcrj4Q3"
      }
    },
    {
      "cell_type": "code",
      "source": [
        "!wget -O ./ClaimDecomp/train.jsonl 'https://www.cs.utexas.edu/~jfchen/claim-decomp/train.jsonl'\n",
        "!wget -O ./ClaimDecomp/dev.jsonl 'https://www.cs.utexas.edu/~jfchen/claim-decomp/dev.jsonl'\n",
        "!wget -O ./ClaimDecomp/test.jsonl 'https://www.cs.utexas.edu/~jfchen/claim-decomp/test.jsonl'"
      ],
      "metadata": {
        "colab": {
          "base_uri": "https://localhost:8080/"
        },
        "id": "2I01wXWDlB0r",
        "outputId": "0bcdb21b-2814-409f-b4d9-12d2b05d3ec9"
      },
      "execution_count": 2,
      "outputs": [
        {
          "output_type": "stream",
          "name": "stdout",
          "text": [
            "--2022-10-20 06:19:50--  https://www.cs.utexas.edu/~jfchen/claim-decomp/train.jsonl\n",
            "Resolving www.cs.utexas.edu (www.cs.utexas.edu)... 128.83.120.48\n",
            "Connecting to www.cs.utexas.edu (www.cs.utexas.edu)|128.83.120.48|:443... connected.\n",
            "HTTP request sent, awaiting response... 200 OK\n",
            "Length: 658106 (643K)\n",
            "Saving to: ‘./ClaimDecomp/train.jsonl’\n",
            "\n",
            "./ClaimDecomp/train 100%[===================>] 642.68K   660KB/s    in 1.0s    \n",
            "\n",
            "2022-10-20 06:19:52 (660 KB/s) - ‘./ClaimDecomp/train.jsonl’ saved [658106/658106]\n",
            "\n",
            "--2022-10-20 06:19:53--  https://www.cs.utexas.edu/~jfchen/claim-decomp/dev.jsonl\n",
            "Resolving www.cs.utexas.edu (www.cs.utexas.edu)... 128.83.120.48\n",
            "Connecting to www.cs.utexas.edu (www.cs.utexas.edu)|128.83.120.48|:443... connected.\n",
            "HTTP request sent, awaiting response... 200 OK\n",
            "Length: 341551 (334K)\n",
            "Saving to: ‘./ClaimDecomp/dev.jsonl’\n",
            "\n",
            "./ClaimDecomp/dev.j 100%[===================>] 333.55K   427KB/s    in 0.8s    \n",
            "\n",
            "2022-10-20 06:19:54 (427 KB/s) - ‘./ClaimDecomp/dev.jsonl’ saved [341551/341551]\n",
            "\n",
            "--2022-10-20 06:19:54--  https://www.cs.utexas.edu/~jfchen/claim-decomp/test.jsonl\n",
            "Resolving www.cs.utexas.edu (www.cs.utexas.edu)... 128.83.120.48\n",
            "Connecting to www.cs.utexas.edu (www.cs.utexas.edu)|128.83.120.48|:443... connected.\n",
            "HTTP request sent, awaiting response... 200 OK\n",
            "Length: 335803 (328K)\n",
            "Saving to: ‘./ClaimDecomp/test.jsonl’\n",
            "\n",
            "./ClaimDecomp/test. 100%[===================>] 327.93K   424KB/s    in 0.8s    \n",
            "\n",
            "2022-10-20 06:19:56 (424 KB/s) - ‘./ClaimDecomp/test.jsonl’ saved [335803/335803]\n",
            "\n"
          ]
        }
      ]
    },
    {
      "cell_type": "markdown",
      "source": [
        "# Reconstruct Dataset\n",
        "\n",
        "As the inital dataset downloaded from ClaimDecomp contains incomplete fields (like missing claims, person etc), the data has to be reconstructed by processing information from the source articles of each claim"
      ],
      "metadata": {
        "id": "n2FGVAH1UR2s"
      }
    },
    {
      "cell_type": "markdown",
      "source": [
        "##Information on Train.jsonl\n",
        "\n",
        "Removed Invalid Samples: \n",
        "* **717-719**\n",
        "\n",
        "Skipped Samples: \n",
        "1. 241\n",
        "2. 513\n",
        "3. 579\n",
        "4. 586\n",
        "\n",
        "Total Samples: \n",
        "**793**\n",
        "\n"
      ],
      "metadata": {
        "id": "XTWquaHTvbwi"
      }
    },
    {
      "cell_type": "code",
      "source": [
        "!python3 reconstruct_dataset.py --input_path ./ClaimDecomp/train.jsonl --output ./Reconstructed/train.jsonl"
      ],
      "metadata": {
        "id": "swm1dtqAg7na"
      },
      "execution_count": null,
      "outputs": []
    },
    {
      "cell_type": "markdown",
      "source": [
        "##Information on dev.jsonl\n",
        "\n",
        "Removed Invalid Samples: **34-36**\n",
        "\n",
        "Total Samples: **197**"
      ],
      "metadata": {
        "id": "y7LISo4aoqxe"
      }
    },
    {
      "cell_type": "code",
      "source": [
        "!python3 reconstruct_dataset.py --input_path ./ClaimDecomp/dev.jsonl --output ./Reconstructed/dev.jsonl"
      ],
      "metadata": {
        "id": "AkdA8Yihjkjo",
        "colab": {
          "base_uri": "https://localhost:8080/"
        },
        "outputId": "91b459a2-06b9-4cdb-985c-84d298b4734f"
      },
      "execution_count": 6,
      "outputs": [
        {
          "output_type": "stream",
          "name": "stdout",
          "text": [
            "Size of Dataframe: 197\n",
            "\n",
            "197it [05:15,  1.60s/it]\n"
          ]
        }
      ]
    },
    {
      "cell_type": "markdown",
      "source": [
        "##Information on test.jsonl\n",
        "\n",
        "Total Samples: **200**"
      ],
      "metadata": {
        "id": "s9OX1fiuVA8m"
      }
    },
    {
      "cell_type": "code",
      "source": [
        "!python3 reconstruct_dataset.py --input_path ./ClaimDecomp/test.jsonl --output ./Reconstructed/test.jsonl"
      ],
      "metadata": {
        "id": "qn6qyuNrkLcc",
        "colab": {
          "base_uri": "https://localhost:8080/"
        },
        "outputId": "7aaf4d1b-2248-4499-941f-7f10b77a07e6"
      },
      "execution_count": 7,
      "outputs": [
        {
          "output_type": "stream",
          "name": "stdout",
          "text": [
            "Size of Dataframe: 200\n",
            "\n",
            "200it [06:26,  1.93s/it]\n"
          ]
        }
      ]
    },
    {
      "cell_type": "markdown",
      "source": [
        "# Dataframe Creation\n",
        "\n",
        "The following code serves to construct a Pandas dataframe from the raw jsonl files reconstructed from the original ClaimDecomp dataset"
      ],
      "metadata": {
        "id": "1MCCHdtMPGcE"
      }
    },
    {
      "cell_type": "code",
      "source": [
        "import pandas as pd\n",
        "import json\n",
        "from pandas import json_normalize\n",
        "\n",
        "path = \"./reconstructed_data/dev.jsonl\"\n",
        "with open(path, 'r') as jsonl_file:\n",
        "    jsonl_list = list(jsonl_file)\n",
        "\n",
        "#listOfRows is a list of dict, each containing data for each row in the df with keys = column name\n",
        "listOfRows = []\n",
        "for entry in jsonl_list:\n",
        "    loadedEntry = json.loads(entry)\n",
        "    # print(f\"result: {loadedEntry}\")\n",
        "    # print(isinstance(loadedEntry, dict))\n",
        "    listOfRows.append(loadedEntry)\n",
        "\n",
        "df = pd.DataFrame(listOfRows)\n",
        "df.head()"
      ],
      "metadata": {
        "colab": {
          "base_uri": "https://localhost:8080/",
          "height": 597
        },
        "id": "NkBXLBgCLxNs",
        "outputId": "407708ba-3ee1-4aa3-926b-97be087c55b3"
      },
      "execution_count": 18,
      "outputs": [
        {
          "output_type": "execute_result",
          "data": {
            "text/plain": [
              "            example_id        label  \\\n",
              "0  8057719209342304749        false   \n",
              "1 -3333998957238197422  barely-true   \n",
              "2 -5816336384767541299  barely-true   \n",
              "3  7968458905312541095         true   \n",
              "4 -2095875040468818200        false   \n",
              "\n",
              "                                                 url  \\\n",
              "0  https://www.politifact.com/factchecks/2020/apr...   \n",
              "1  https://www.politifact.com/factchecks/2019/mar...   \n",
              "2  https://www.politifact.com/factchecks/2016/nov...   \n",
              "3  https://www.politifact.com/factchecks/2014/dec...   \n",
              "4  https://www.politifact.com/factchecks/2020/sep...   \n",
              "\n",
              "                                         annotations  \\\n",
              "0  [{'questions': ['Is voting fraud widespread in...   \n",
              "1  [{'questions': ['Was the federal aid given by ...   \n",
              "2  [{'questions': ['Is this ban directly linked t...   \n",
              "3  [{'questions': ['Is it true that  The United S...   \n",
              "4  [{'questions': ['Has Trump been accused of wal...   \n",
              "\n",
              "                                               claim              person  \\\n",
              "0  With voting by mail, “you get thousands and th...        Donald Trump   \n",
              "1  \"I’ve already traveled to Washington, D.C., an...        Ron DeSantis   \n",
              "2  Says that when San Francisco banned plastic gr...      James Quintero   \n",
              "3  The United States \"decided waterboarding was t...  Sheldon Whitehouse   \n",
              "4  Quotes Donald Trump as saying, “I’ll tell you ...         Viral image   \n",
              "\n",
              "                                               venue  \\\n",
              "0       stated on April 7, 2020 in a press briefing:   \n",
              "1  stated on March 5, 2019 in his State of the St...   \n",
              "2  stated on October 10, 2016 in a panel discussi...   \n",
              "3     stated on December 14, 2014 in a TV interview:   \n",
              "4  stated on September 21, 2020 in a post on Face...   \n",
              "\n",
              "                                       justification  \\\n",
              "0  Trump said that with voting by mail, \"you get ...   \n",
              "1  DeSantis said, \"I’ve already traveled to Washi...   \n",
              "2  Quintero said that when San Francisco banned p...   \n",
              "3  Sheldon Whitehouse said the United States \"dec...   \n",
              "4  A Facebook post quotes President Trump as sayi...   \n",
              "\n",
              "                                        full_article  \n",
              "0  The daily White House briefings about coronavi...  \n",
              "1  Editor’s note, March 10 12:55 p.m.: Two days a...  \n",
              "2  Reused grocery bags made Californians sick, a ...  \n",
              "3  The so-called \"CIA torture report\" has heighte...  \n",
              "4  President Donald Trump, a former beauty pagean...  "
            ],
            "text/html": [
              "\n",
              "  <div id=\"df-71407d60-84ed-4f20-9efe-3db4eab67c2b\">\n",
              "    <div class=\"colab-df-container\">\n",
              "      <div>\n",
              "<style scoped>\n",
              "    .dataframe tbody tr th:only-of-type {\n",
              "        vertical-align: middle;\n",
              "    }\n",
              "\n",
              "    .dataframe tbody tr th {\n",
              "        vertical-align: top;\n",
              "    }\n",
              "\n",
              "    .dataframe thead th {\n",
              "        text-align: right;\n",
              "    }\n",
              "</style>\n",
              "<table border=\"1\" class=\"dataframe\">\n",
              "  <thead>\n",
              "    <tr style=\"text-align: right;\">\n",
              "      <th></th>\n",
              "      <th>example_id</th>\n",
              "      <th>label</th>\n",
              "      <th>url</th>\n",
              "      <th>annotations</th>\n",
              "      <th>claim</th>\n",
              "      <th>person</th>\n",
              "      <th>venue</th>\n",
              "      <th>justification</th>\n",
              "      <th>full_article</th>\n",
              "    </tr>\n",
              "  </thead>\n",
              "  <tbody>\n",
              "    <tr>\n",
              "      <th>0</th>\n",
              "      <td>8057719209342304749</td>\n",
              "      <td>false</td>\n",
              "      <td>https://www.politifact.com/factchecks/2020/apr...</td>\n",
              "      <td>[{'questions': ['Is voting fraud widespread in...</td>\n",
              "      <td>With voting by mail, “you get thousands and th...</td>\n",
              "      <td>Donald Trump</td>\n",
              "      <td>stated on April 7, 2020 in a press briefing:</td>\n",
              "      <td>Trump said that with voting by mail, \"you get ...</td>\n",
              "      <td>The daily White House briefings about coronavi...</td>\n",
              "    </tr>\n",
              "    <tr>\n",
              "      <th>1</th>\n",
              "      <td>-3333998957238197422</td>\n",
              "      <td>barely-true</td>\n",
              "      <td>https://www.politifact.com/factchecks/2019/mar...</td>\n",
              "      <td>[{'questions': ['Was the federal aid given by ...</td>\n",
              "      <td>\"I’ve already traveled to Washington, D.C., an...</td>\n",
              "      <td>Ron DeSantis</td>\n",
              "      <td>stated on March 5, 2019 in his State of the St...</td>\n",
              "      <td>DeSantis said, \"I’ve already traveled to Washi...</td>\n",
              "      <td>Editor’s note, March 10 12:55 p.m.: Two days a...</td>\n",
              "    </tr>\n",
              "    <tr>\n",
              "      <th>2</th>\n",
              "      <td>-5816336384767541299</td>\n",
              "      <td>barely-true</td>\n",
              "      <td>https://www.politifact.com/factchecks/2016/nov...</td>\n",
              "      <td>[{'questions': ['Is this ban directly linked t...</td>\n",
              "      <td>Says that when San Francisco banned plastic gr...</td>\n",
              "      <td>James Quintero</td>\n",
              "      <td>stated on October 10, 2016 in a panel discussi...</td>\n",
              "      <td>Quintero said that when San Francisco banned p...</td>\n",
              "      <td>Reused grocery bags made Californians sick, a ...</td>\n",
              "    </tr>\n",
              "    <tr>\n",
              "      <th>3</th>\n",
              "      <td>7968458905312541095</td>\n",
              "      <td>true</td>\n",
              "      <td>https://www.politifact.com/factchecks/2014/dec...</td>\n",
              "      <td>[{'questions': ['Is it true that  The United S...</td>\n",
              "      <td>The United States \"decided waterboarding was t...</td>\n",
              "      <td>Sheldon Whitehouse</td>\n",
              "      <td>stated on December 14, 2014 in a TV interview:</td>\n",
              "      <td>Sheldon Whitehouse said the United States \"dec...</td>\n",
              "      <td>The so-called \"CIA torture report\" has heighte...</td>\n",
              "    </tr>\n",
              "    <tr>\n",
              "      <th>4</th>\n",
              "      <td>-2095875040468818200</td>\n",
              "      <td>false</td>\n",
              "      <td>https://www.politifact.com/factchecks/2020/sep...</td>\n",
              "      <td>[{'questions': ['Has Trump been accused of wal...</td>\n",
              "      <td>Quotes Donald Trump as saying, “I’ll tell you ...</td>\n",
              "      <td>Viral image</td>\n",
              "      <td>stated on September 21, 2020 in a post on Face...</td>\n",
              "      <td>A Facebook post quotes President Trump as sayi...</td>\n",
              "      <td>President Donald Trump, a former beauty pagean...</td>\n",
              "    </tr>\n",
              "  </tbody>\n",
              "</table>\n",
              "</div>\n",
              "      <button class=\"colab-df-convert\" onclick=\"convertToInteractive('df-71407d60-84ed-4f20-9efe-3db4eab67c2b')\"\n",
              "              title=\"Convert this dataframe to an interactive table.\"\n",
              "              style=\"display:none;\">\n",
              "        \n",
              "  <svg xmlns=\"http://www.w3.org/2000/svg\" height=\"24px\"viewBox=\"0 0 24 24\"\n",
              "       width=\"24px\">\n",
              "    <path d=\"M0 0h24v24H0V0z\" fill=\"none\"/>\n",
              "    <path d=\"M18.56 5.44l.94 2.06.94-2.06 2.06-.94-2.06-.94-.94-2.06-.94 2.06-2.06.94zm-11 1L8.5 8.5l.94-2.06 2.06-.94-2.06-.94L8.5 2.5l-.94 2.06-2.06.94zm10 10l.94 2.06.94-2.06 2.06-.94-2.06-.94-.94-2.06-.94 2.06-2.06.94z\"/><path d=\"M17.41 7.96l-1.37-1.37c-.4-.4-.92-.59-1.43-.59-.52 0-1.04.2-1.43.59L10.3 9.45l-7.72 7.72c-.78.78-.78 2.05 0 2.83L4 21.41c.39.39.9.59 1.41.59.51 0 1.02-.2 1.41-.59l7.78-7.78 2.81-2.81c.8-.78.8-2.07 0-2.86zM5.41 20L4 18.59l7.72-7.72 1.47 1.35L5.41 20z\"/>\n",
              "  </svg>\n",
              "      </button>\n",
              "      \n",
              "  <style>\n",
              "    .colab-df-container {\n",
              "      display:flex;\n",
              "      flex-wrap:wrap;\n",
              "      gap: 12px;\n",
              "    }\n",
              "\n",
              "    .colab-df-convert {\n",
              "      background-color: #E8F0FE;\n",
              "      border: none;\n",
              "      border-radius: 50%;\n",
              "      cursor: pointer;\n",
              "      display: none;\n",
              "      fill: #1967D2;\n",
              "      height: 32px;\n",
              "      padding: 0 0 0 0;\n",
              "      width: 32px;\n",
              "    }\n",
              "\n",
              "    .colab-df-convert:hover {\n",
              "      background-color: #E2EBFA;\n",
              "      box-shadow: 0px 1px 2px rgba(60, 64, 67, 0.3), 0px 1px 3px 1px rgba(60, 64, 67, 0.15);\n",
              "      fill: #174EA6;\n",
              "    }\n",
              "\n",
              "    [theme=dark] .colab-df-convert {\n",
              "      background-color: #3B4455;\n",
              "      fill: #D2E3FC;\n",
              "    }\n",
              "\n",
              "    [theme=dark] .colab-df-convert:hover {\n",
              "      background-color: #434B5C;\n",
              "      box-shadow: 0px 1px 3px 1px rgba(0, 0, 0, 0.15);\n",
              "      filter: drop-shadow(0px 1px 2px rgba(0, 0, 0, 0.3));\n",
              "      fill: #FFFFFF;\n",
              "    }\n",
              "  </style>\n",
              "\n",
              "      <script>\n",
              "        const buttonEl =\n",
              "          document.querySelector('#df-71407d60-84ed-4f20-9efe-3db4eab67c2b button.colab-df-convert');\n",
              "        buttonEl.style.display =\n",
              "          google.colab.kernel.accessAllowed ? 'block' : 'none';\n",
              "\n",
              "        async function convertToInteractive(key) {\n",
              "          const element = document.querySelector('#df-71407d60-84ed-4f20-9efe-3db4eab67c2b');\n",
              "          const dataTable =\n",
              "            await google.colab.kernel.invokeFunction('convertToInteractive',\n",
              "                                                     [key], {});\n",
              "          if (!dataTable) return;\n",
              "\n",
              "          const docLinkHtml = 'Like what you see? Visit the ' +\n",
              "            '<a target=\"_blank\" href=https://colab.research.google.com/notebooks/data_table.ipynb>data table notebook</a>'\n",
              "            + ' to learn more about interactive tables.';\n",
              "          element.innerHTML = '';\n",
              "          dataTable['output_type'] = 'display_data';\n",
              "          await google.colab.output.renderOutput(dataTable, element);\n",
              "          const docLink = document.createElement('div');\n",
              "          docLink.innerHTML = docLinkHtml;\n",
              "          element.appendChild(docLink);\n",
              "        }\n",
              "      </script>\n",
              "    </div>\n",
              "  </div>\n",
              "  "
            ]
          },
          "metadata": {},
          "execution_count": 18
        }
      ]
    },
    {
      "cell_type": "code",
      "source": [],
      "metadata": {
        "id": "Ke7yuDuePxe6"
      },
      "execution_count": null,
      "outputs": []
    }
  ]
}